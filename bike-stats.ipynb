{
 "cells": [
  {
   "cell_type": "markdown",
   "metadata": {},
   "source": [
    "Lab: 11 - Data Analysis - Bike Stats\n",
    "This data set is information about bike commuters, data on the riders, the weather and where they ride to and from and get their bikes from.\n",
    "\n",
    "Amy Evans, 12.16.2019\n"
   ]
  },
  {
   "cell_type": "code",
   "execution_count": 1,
   "metadata": {},
   "outputs": [],
   "source": [
    "import pandas as pd\n",
    "import numpy as np"
   ]
  },
  {
   "cell_type": "code",
   "execution_count": 2,
   "metadata": {},
   "outputs": [
    {
     "data": {
      "text/html": [
       "<div>\n",
       "<style scoped>\n",
       "    .dataframe tbody tr th:only-of-type {\n",
       "        vertical-align: middle;\n",
       "    }\n",
       "\n",
       "    .dataframe tbody tr th {\n",
       "        vertical-align: top;\n",
       "    }\n",
       "\n",
       "    .dataframe thead th {\n",
       "        text-align: right;\n",
       "    }\n",
       "</style>\n",
       "<table border=\"1\" class=\"dataframe\">\n",
       "  <thead>\n",
       "    <tr style=\"text-align: right;\">\n",
       "      <th></th>\n",
       "      <th>trip_id</th>\n",
       "      <th>starttime</th>\n",
       "      <th>stoptime</th>\n",
       "      <th>bikeid</th>\n",
       "      <th>tripduration</th>\n",
       "      <th>from_station_name</th>\n",
       "      <th>to_station_name</th>\n",
       "      <th>from_station_id</th>\n",
       "      <th>to_station_id</th>\n",
       "      <th>usertype</th>\n",
       "      <th>gender</th>\n",
       "      <th>birthyear</th>\n",
       "    </tr>\n",
       "  </thead>\n",
       "  <tbody>\n",
       "    <tr>\n",
       "      <th>0</th>\n",
       "      <td>431</td>\n",
       "      <td>10/13/2014 10:31</td>\n",
       "      <td>10/13/2014 10:48</td>\n",
       "      <td>SEA00298</td>\n",
       "      <td>985.935</td>\n",
       "      <td>2nd Ave &amp; Spring St</td>\n",
       "      <td>Occidental Park / Occidental Ave S &amp; S Washing...</td>\n",
       "      <td>CBD-06</td>\n",
       "      <td>PS-04</td>\n",
       "      <td>Member</td>\n",
       "      <td>Male</td>\n",
       "      <td>1960.0</td>\n",
       "    </tr>\n",
       "    <tr>\n",
       "      <th>1</th>\n",
       "      <td>432</td>\n",
       "      <td>10/13/2014 10:32</td>\n",
       "      <td>10/13/2014 10:48</td>\n",
       "      <td>SEA00195</td>\n",
       "      <td>926.375</td>\n",
       "      <td>2nd Ave &amp; Spring St</td>\n",
       "      <td>Occidental Park / Occidental Ave S &amp; S Washing...</td>\n",
       "      <td>CBD-06</td>\n",
       "      <td>PS-04</td>\n",
       "      <td>Member</td>\n",
       "      <td>Male</td>\n",
       "      <td>1970.0</td>\n",
       "    </tr>\n",
       "  </tbody>\n",
       "</table>\n",
       "</div>"
      ],
      "text/plain": [
       "   trip_id         starttime          stoptime    bikeid  tripduration  \\\n",
       "0      431  10/13/2014 10:31  10/13/2014 10:48  SEA00298       985.935   \n",
       "1      432  10/13/2014 10:32  10/13/2014 10:48  SEA00195       926.375   \n",
       "\n",
       "     from_station_name                                    to_station_name  \\\n",
       "0  2nd Ave & Spring St  Occidental Park / Occidental Ave S & S Washing...   \n",
       "1  2nd Ave & Spring St  Occidental Park / Occidental Ave S & S Washing...   \n",
       "\n",
       "  from_station_id to_station_id usertype gender  birthyear  \n",
       "0          CBD-06         PS-04   Member   Male     1960.0  \n",
       "1          CBD-06         PS-04   Member   Male     1970.0  "
      ]
     },
     "execution_count": 2,
     "metadata": {},
     "output_type": "execute_result"
    }
   ],
   "source": [
    "df = pd.read_csv('trip.csv', skiprows=[50793])\n",
    "df.head(2)"
   ]
  },
  {
   "cell_type": "code",
   "execution_count": 3,
   "metadata": {},
   "outputs": [],
   "source": [
    "# Finding the average trip duration for a borrowed bicycle?"
   ]
  },
  {
   "cell_type": "code",
   "execution_count": 4,
   "metadata": {},
   "outputs": [
    {
     "data": {
      "text/plain": [
       "1178.2956753399776"
      ]
     },
     "execution_count": 4,
     "metadata": {},
     "output_type": "execute_result"
    }
   ],
   "source": [
    "df['tripduration'].mean()"
   ]
  },
  {
   "cell_type": "code",
   "execution_count": 5,
   "metadata": {},
   "outputs": [],
   "source": [
    "# Finding the average age of a biker"
   ]
  },
  {
   "cell_type": "code",
   "execution_count": 6,
   "metadata": {},
   "outputs": [
    {
     "data": {
      "text/plain": [
       "0    1987.0\n",
       "dtype: float64"
      ]
     },
     "execution_count": 6,
     "metadata": {},
     "output_type": "execute_result"
    }
   ],
   "source": [
    "mode_birthyear = df['birthyear'].mode()\n",
    "mode_birthyear"
   ]
  },
  {
   "cell_type": "code",
   "execution_count": 7,
   "metadata": {},
   "outputs": [
    {
     "data": {
      "text/plain": [
       "0    32.0\n",
       "dtype: float64"
      ]
     },
     "execution_count": 7,
     "metadata": {},
     "output_type": "execute_result"
    }
   ],
   "source": [
    "avg_age = 2019 - mode_birthyear\n",
    "avg_age"
   ]
  },
  {
   "cell_type": "code",
   "execution_count": 8,
   "metadata": {},
   "outputs": [],
   "source": [
    "# The average age of a bike-sharer is 32!"
   ]
  },
  {
   "cell_type": "code",
   "execution_count": 9,
   "metadata": {},
   "outputs": [
    {
     "data": {
      "text/html": [
       "<div>\n",
       "<style scoped>\n",
       "    .dataframe tbody tr th:only-of-type {\n",
       "        vertical-align: middle;\n",
       "    }\n",
       "\n",
       "    .dataframe tbody tr th {\n",
       "        vertical-align: top;\n",
       "    }\n",
       "\n",
       "    .dataframe thead th {\n",
       "        text-align: right;\n",
       "    }\n",
       "</style>\n",
       "<table border=\"1\" class=\"dataframe\">\n",
       "  <thead>\n",
       "    <tr style=\"text-align: right;\">\n",
       "      <th></th>\n",
       "      <th>Date</th>\n",
       "      <th>Max_Temperature_F</th>\n",
       "      <th>Mean_Temperature_F</th>\n",
       "      <th>Min_TemperatureF</th>\n",
       "      <th>Max_Dew_Point_F</th>\n",
       "      <th>MeanDew_Point_F</th>\n",
       "      <th>Min_Dewpoint_F</th>\n",
       "      <th>Max_Humidity</th>\n",
       "      <th>Mean_Humidity</th>\n",
       "      <th>Min_Humidity</th>\n",
       "      <th>...</th>\n",
       "      <th>Mean_Sea_Level_Pressure_In</th>\n",
       "      <th>Min_Sea_Level_Pressure_In</th>\n",
       "      <th>Max_Visibility_Miles</th>\n",
       "      <th>Mean_Visibility_Miles</th>\n",
       "      <th>Min_Visibility_Miles</th>\n",
       "      <th>Max_Wind_Speed_MPH</th>\n",
       "      <th>Mean_Wind_Speed_MPH</th>\n",
       "      <th>Max_Gust_Speed_MPH</th>\n",
       "      <th>Precipitation_In</th>\n",
       "      <th>Events</th>\n",
       "    </tr>\n",
       "  </thead>\n",
       "  <tbody>\n",
       "    <tr>\n",
       "      <th>0</th>\n",
       "      <td>10/13/2014</td>\n",
       "      <td>71</td>\n",
       "      <td>62.0</td>\n",
       "      <td>54</td>\n",
       "      <td>55</td>\n",
       "      <td>51</td>\n",
       "      <td>46</td>\n",
       "      <td>87</td>\n",
       "      <td>68</td>\n",
       "      <td>46</td>\n",
       "      <td>...</td>\n",
       "      <td>29.79</td>\n",
       "      <td>29.65</td>\n",
       "      <td>10</td>\n",
       "      <td>10</td>\n",
       "      <td>4</td>\n",
       "      <td>13</td>\n",
       "      <td>4</td>\n",
       "      <td>21</td>\n",
       "      <td>0.00</td>\n",
       "      <td>Rain</td>\n",
       "    </tr>\n",
       "    <tr>\n",
       "      <th>1</th>\n",
       "      <td>10/14/2014</td>\n",
       "      <td>63</td>\n",
       "      <td>59.0</td>\n",
       "      <td>55</td>\n",
       "      <td>52</td>\n",
       "      <td>51</td>\n",
       "      <td>50</td>\n",
       "      <td>88</td>\n",
       "      <td>78</td>\n",
       "      <td>63</td>\n",
       "      <td>...</td>\n",
       "      <td>29.75</td>\n",
       "      <td>29.54</td>\n",
       "      <td>10</td>\n",
       "      <td>9</td>\n",
       "      <td>3</td>\n",
       "      <td>10</td>\n",
       "      <td>5</td>\n",
       "      <td>17</td>\n",
       "      <td>0.11</td>\n",
       "      <td>Rain</td>\n",
       "    </tr>\n",
       "  </tbody>\n",
       "</table>\n",
       "<p>2 rows × 21 columns</p>\n",
       "</div>"
      ],
      "text/plain": [
       "         Date  Max_Temperature_F  Mean_Temperature_F  Min_TemperatureF  \\\n",
       "0  10/13/2014                 71                62.0                54   \n",
       "1  10/14/2014                 63                59.0                55   \n",
       "\n",
       "   Max_Dew_Point_F  MeanDew_Point_F  Min_Dewpoint_F  Max_Humidity  \\\n",
       "0               55               51              46            87   \n",
       "1               52               51              50            88   \n",
       "\n",
       "   Mean_Humidity  Min_Humidity  ...  Mean_Sea_Level_Pressure_In  \\\n",
       "0             68            46  ...                       29.79   \n",
       "1             78            63  ...                       29.75   \n",
       "\n",
       "   Min_Sea_Level_Pressure_In  Max_Visibility_Miles  Mean_Visibility_Miles  \\\n",
       "0                      29.65                    10                     10   \n",
       "1                      29.54                    10                      9   \n",
       "\n",
       "   Min_Visibility_Miles  Max_Wind_Speed_MPH  Mean_Wind_Speed_MPH  \\\n",
       "0                     4                  13                    4   \n",
       "1                     3                  10                    5   \n",
       "\n",
       "   Max_Gust_Speed_MPH Precipitation_In  Events  \n",
       "0                  21             0.00    Rain  \n",
       "1                  17             0.11    Rain  \n",
       "\n",
       "[2 rows x 21 columns]"
      ]
     },
     "execution_count": 9,
     "metadata": {},
     "output_type": "execute_result"
    }
   ],
   "source": [
    "df = pd.read_csv('weather.csv')\n",
    "df.head(2)"
   ]
  },
  {
   "cell_type": "code",
   "execution_count": 10,
   "metadata": {},
   "outputs": [],
   "source": [
    "# Extracted the month from the date sting into a new column called month"
   ]
  },
  {
   "cell_type": "code",
   "execution_count": 11,
   "metadata": {},
   "outputs": [],
   "source": [
    "df['month'] = pd.DatetimeIndex(df['Date']).month"
   ]
  },
  {
   "cell_type": "code",
   "execution_count": 12,
   "metadata": {},
   "outputs": [],
   "source": [
    "# Listing the average percipitation by month"
   ]
  },
  {
   "cell_type": "code",
   "execution_count": 13,
   "metadata": {},
   "outputs": [
    {
     "data": {
      "text/plain": [
       "month\n",
       "1     0.143548\n",
       "2     0.168421\n",
       "3     0.156935\n",
       "4     0.051333\n",
       "5     0.012419\n",
       "6     0.030500\n",
       "7     0.012097\n",
       "8     0.018226\n",
       "9     0.041000\n",
       "10    0.189000\n",
       "11    0.187833\n",
       "12    0.236290\n",
       "Name: Precipitation_In, dtype: float64"
      ]
     },
     "execution_count": 13,
     "metadata": {},
     "output_type": "execute_result"
    }
   ],
   "source": [
    "df.groupby('month')['Precipitation_In'].mean()"
   ]
  },
  {
   "cell_type": "code",
   "execution_count": 14,
   "metadata": {},
   "outputs": [],
   "source": [
    "# Listing the median percipitation"
   ]
  },
  {
   "cell_type": "code",
   "execution_count": 15,
   "metadata": {},
   "outputs": [
    {
     "data": {
      "text/plain": [
       "month\n",
       "1     0.020\n",
       "2     0.040\n",
       "3     0.025\n",
       "4     0.000\n",
       "5     0.000\n",
       "6     0.000\n",
       "7     0.000\n",
       "8     0.000\n",
       "9     0.000\n",
       "10    0.040\n",
       "11    0.035\n",
       "12    0.100\n",
       "Name: Precipitation_In, dtype: float64"
      ]
     },
     "execution_count": 15,
     "metadata": {},
     "output_type": "execute_result"
    }
   ],
   "source": [
    "df.groupby('month')['Precipitation_In'].median()"
   ]
  },
  {
   "cell_type": "code",
   "execution_count": 16,
   "metadata": {},
   "outputs": [
    {
     "data": {
      "text/html": [
       "<div>\n",
       "<style scoped>\n",
       "    .dataframe tbody tr th:only-of-type {\n",
       "        vertical-align: middle;\n",
       "    }\n",
       "\n",
       "    .dataframe tbody tr th {\n",
       "        vertical-align: top;\n",
       "    }\n",
       "\n",
       "    .dataframe thead th {\n",
       "        text-align: right;\n",
       "    }\n",
       "</style>\n",
       "<table border=\"1\" class=\"dataframe\">\n",
       "  <thead>\n",
       "    <tr style=\"text-align: right;\">\n",
       "      <th></th>\n",
       "      <th>station_id</th>\n",
       "      <th>name</th>\n",
       "      <th>lat</th>\n",
       "      <th>long</th>\n",
       "      <th>install_date</th>\n",
       "      <th>install_dockcount</th>\n",
       "      <th>modification_date</th>\n",
       "      <th>current_dockcount</th>\n",
       "      <th>decommission_date</th>\n",
       "    </tr>\n",
       "  </thead>\n",
       "  <tbody>\n",
       "    <tr>\n",
       "      <th>0</th>\n",
       "      <td>BT-01</td>\n",
       "      <td>3rd Ave &amp; Broad St</td>\n",
       "      <td>47.618418</td>\n",
       "      <td>-122.350964</td>\n",
       "      <td>10/13/2014</td>\n",
       "      <td>18</td>\n",
       "      <td>NaN</td>\n",
       "      <td>18</td>\n",
       "      <td>NaN</td>\n",
       "    </tr>\n",
       "    <tr>\n",
       "      <th>1</th>\n",
       "      <td>BT-03</td>\n",
       "      <td>2nd Ave &amp; Vine St</td>\n",
       "      <td>47.615829</td>\n",
       "      <td>-122.348564</td>\n",
       "      <td>10/13/2014</td>\n",
       "      <td>16</td>\n",
       "      <td>NaN</td>\n",
       "      <td>16</td>\n",
       "      <td>NaN</td>\n",
       "    </tr>\n",
       "  </tbody>\n",
       "</table>\n",
       "</div>"
      ],
      "text/plain": [
       "  station_id                name        lat        long install_date  \\\n",
       "0      BT-01  3rd Ave & Broad St  47.618418 -122.350964   10/13/2014   \n",
       "1      BT-03   2nd Ave & Vine St  47.615829 -122.348564   10/13/2014   \n",
       "\n",
       "   install_dockcount modification_date  current_dockcount decommission_date  \n",
       "0                 18               NaN                 18               NaN  \n",
       "1                 16               NaN                 16               NaN  "
      ]
     },
     "execution_count": 16,
     "metadata": {},
     "output_type": "execute_result"
    }
   ],
   "source": [
    "df = pd.read_csv('station.csv')\n",
    "df.head(2)"
   ]
  },
  {
   "cell_type": "code",
   "execution_count": 17,
   "metadata": {},
   "outputs": [],
   "source": [
    "# Finding the average number of bikes at a given bike station?"
   ]
  },
  {
   "cell_type": "code",
   "execution_count": 18,
   "metadata": {},
   "outputs": [
    {
     "data": {
      "text/plain": [
       "16.517241379310345"
      ]
     },
     "execution_count": 18,
     "metadata": {},
     "output_type": "execute_result"
    }
   ],
   "source": [
    "df['current_dockcount'].mean()"
   ]
  },
  {
   "cell_type": "code",
   "execution_count": 19,
   "metadata": {},
   "outputs": [],
   "source": [
    "# When a bike station is modified, is it more likely that it’ll lose bikes or gain bikes? How do you know?"
   ]
  },
  {
   "cell_type": "code",
   "execution_count": 20,
   "metadata": {},
   "outputs": [
    {
     "data": {
      "text/plain": [
       "7     -2\n",
       "10   -16\n",
       "12     2\n",
       "17    -2\n",
       "22    -6\n",
       "23     4\n",
       "26   -16\n",
       "31     2\n",
       "35     8\n",
       "37    -2\n",
       "38   -20\n",
       "39     4\n",
       "46   -16\n",
       "47     2\n",
       "48    -2\n",
       "49     2\n",
       "50    -6\n",
       "dtype: int64"
      ]
     },
     "execution_count": 20,
     "metadata": {},
     "output_type": "execute_result"
    }
   ],
   "source": [
    "mod_date = df.dropna(subset=['modification_date'])\n",
    "current_dockcount = ['current_dockcount']\n",
    "install_dockcount = ['install-dockcount']\n",
    "mod_bikes = mod_date.current_dockcount - mod_date.install_dockcount\n",
    "mod_bikes"
   ]
  },
  {
   "cell_type": "code",
   "execution_count": 21,
   "metadata": {},
   "outputs": [],
   "source": [
    "# My guess would be that it is more likely to lose bikes after modification, since it looks like 10\n",
    "# stores lost bikes our of this sample, while only 7 stores gained them.  "
   ]
  },
  {
   "cell_type": "code",
   "execution_count": null,
   "metadata": {},
   "outputs": [],
   "source": []
  },
  {
   "cell_type": "code",
   "execution_count": null,
   "metadata": {},
   "outputs": [],
   "source": []
  },
  {
   "cell_type": "code",
   "execution_count": null,
   "metadata": {},
   "outputs": [],
   "source": []
  }
 ],
 "metadata": {
  "kernelspec": {
   "display_name": "Python 3",
   "language": "python",
   "name": "python3"
  },
  "language_info": {
   "codemirror_mode": {
    "name": "ipython",
    "version": 3
   },
   "file_extension": ".py",
   "mimetype": "text/x-python",
   "name": "python",
   "nbconvert_exporter": "python",
   "pygments_lexer": "ipython3",
   "version": "3.7.5"
  }
 },
 "nbformat": 4,
 "nbformat_minor": 4
}
